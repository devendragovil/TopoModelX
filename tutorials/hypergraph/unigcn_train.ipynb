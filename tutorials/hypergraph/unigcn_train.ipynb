{
 "cells": [
  {
   "cell_type": "code",
   "execution_count": 1,
   "id": "6d52a4e6",
   "metadata": {},
   "outputs": [],
   "source": [
    "import torch\n",
    "import numpy as np\n",
    "from sklearn.model_selection import train_test_split\n",
    "from torch_geometric.datasets import TUDataset\n",
    "from torch_geometric.utils.convert import to_networkx\n",
    "from toponetx.classes.simplicial_complex import SimplicialComplex\n",
    "\n",
    "from topomodelx.nn.hypergraph.unigcn import UniGCN\n",
    "import warnings\n",
    "\n",
    "warnings.filterwarnings(\"ignore\")\n",
    "# %load_ext autoreload\n",
    "# %autoreload 2"
   ]
  },
  {
   "cell_type": "markdown",
   "id": "ca204a1d",
   "metadata": {},
   "source": [
    "# Train a UNIGCN TNN"
   ]
  },
  {
   "cell_type": "markdown",
   "id": "40b0ed66",
   "metadata": {},
   "source": [
    "# Pre-processing\n",
    "\n",
    "## Import data ##\n",
    "\n",
    "The first step is to import the dataset, MUTAG, a benchmark dataset for graph classification. We then lift each graph into our domain of choice, a hypergraph.\n",
    "\n",
    "We will also retrieve:\n",
    "- input signal on the edges for each of these hypergraphs, as that will be what we feed the model in input\n",
    "- the binary label associated to the hypergraph"
   ]
  },
  {
   "cell_type": "code",
   "execution_count": 2,
   "id": "8075441c",
   "metadata": {},
   "outputs": [],
   "source": [
    "dataset = TUDataset(root=\"/tmp/MUTAG\", name=\"MUTAG\", use_edge_attr=True)\n",
    "dataset = dataset[:100]\n",
    "hg_list = []\n",
    "x_1_list = []\n",
    "y_list = []\n",
    "for graph in dataset:\n",
    "    hg = SimplicialComplex(to_networkx(graph)).to_hypergraph()\n",
    "    hg_list.append(hg)\n",
    "    x_1_list.append(graph.x)\n",
    "    y_list.append(int(graph.y))\n",
    "\n",
    "incidence_1_list = []\n",
    "for hg in hg_list:\n",
    "    incidence_1 = hg.incidence_matrix()\n",
    "    incidence_1 = torch.from_numpy(incidence_1.todense()).to_sparse_csr()\n",
    "    incidence_1_list.append(incidence_1)"
   ]
  },
  {
   "cell_type": "markdown",
   "id": "fefd1e37",
   "metadata": {},
   "source": [
    "# Create the Neural Network\n",
    "\n",
    "Using the UniGCNLayer class, we create a neural network with stacked layers."
   ]
  },
  {
   "cell_type": "code",
   "execution_count": 3,
   "id": "ccbc8498",
   "metadata": {},
   "outputs": [],
   "source": [
    "channels_edge = x_1_list[0].shape[1]\n",
    "hidden_channels = 32\n",
    "out_channels = 1\n",
    "n_layers = 2\n",
    "task_level = \"graph\" if out_channels==1 else \"node\"\n",
    "\n",
    "model = UniGCN(\n",
    "        in_channels=channels_edge,\n",
    "        hidden_channels=hidden_channels,\n",
    "        out_channels=out_channels,\n",
    "        n_layers=n_layers,\n",
    "        task_level=task_level,)"
   ]
  },
  {
   "cell_type": "markdown",
   "id": "eac19ef6",
   "metadata": {},
   "source": [
    "# Train the Neural Network\n",
    "\n",
    "We specify the model, the loss, and an optimizer."
   ]
  },
  {
   "cell_type": "code",
   "execution_count": 4,
   "id": "2f3d2abf",
   "metadata": {},
   "outputs": [],
   "source": [
    "optimizer = torch.optim.Adam(model.parameters(), lr=1e-2)\n",
    "crit = torch.nn.BCELoss()"
   ]
  },
  {
   "cell_type": "markdown",
   "id": "9d5b8f65",
   "metadata": {},
   "source": [
    "Split the dataset into train, val, and test sets."
   ]
  },
  {
   "cell_type": "code",
   "execution_count": 5,
   "id": "505a424d",
   "metadata": {},
   "outputs": [],
   "source": [
    "x_1_train, x_1_test = train_test_split(x_1_list, test_size=0.2, shuffle=False)\n",
    "incidence_1_train, incidence_1_test = train_test_split(\n",
    "    incidence_1_list, test_size=0.2, shuffle=False\n",
    ")\n",
    "y_train, y_test = train_test_split(y_list, test_size=0.2, shuffle=False)\n",
    "\n",
    "x_1_train, x_1_val = train_test_split(x_1_train, test_size=0.2, shuffle=False)\n",
    "incidence_1_train, incidence_1_val = train_test_split(\n",
    "    incidence_1_train, test_size=0.2, shuffle=False\n",
    ")\n",
    "y_train, y_val = train_test_split(y_train, test_size=0.2, shuffle=False)"
   ]
  },
  {
   "cell_type": "markdown",
   "id": "010fd6ad",
   "metadata": {},
   "source": [
    "The following cell performs the training, looping over the network for a low amount of epochs. We keep training minimal for the purpose of rapid testing."
   ]
  },
  {
   "cell_type": "code",
   "execution_count": 6,
   "id": "d64c7e80",
   "metadata": {},
   "outputs": [
    {
     "name": "stdout",
     "output_type": "stream",
     "text": [
      "Epoch 0 train loss: 88.3000259399414\n",
      "Epoch 0 Val acc: 0.4375\n",
      "Epoch 10 train loss: 49.60942077636719\n",
      "Epoch 10 Val acc: 0.5625\n",
      "Epoch 20 train loss: 30.046979904174805\n",
      "Epoch 20 Val acc: 0.625\n",
      "Test accuracy: 0.8\n"
     ]
    }
   ],
   "source": [
    "torch.manual_seed(0)\n",
    "test_interval = 10\n",
    "num_epochs = 30\n",
    "for epoch in range(num_epochs):\n",
    "    model.train()\n",
    "    optimizer.zero_grad()\n",
    "    loss = 0\n",
    "    for x_1, incidence_1, y in zip(x_1_train, incidence_1_train, y_train):\n",
    "        output = model(x_1.float(), incidence_1.float())\n",
    "        output = torch.nn.functional.sigmoid(output)\n",
    "        loss += crit(output, torch.tensor([y]).float())\n",
    "    loss.backward()\n",
    "    optimizer.step()\n",
    "    \n",
    "    if epoch % test_interval == 0:\n",
    "        print(f\"Epoch {epoch} train loss: {loss.item()}\")\n",
    "        model.eval()\n",
    "        with torch.no_grad():\n",
    "            correct = 0\n",
    "            for x_1, incidence_1, y in zip(x_1_val, incidence_1_val, y_val):\n",
    "                output = model(x_1.float(), incidence_1.float())\n",
    "                output = torch.nn.functional.sigmoid(output)\n",
    "                pred = output > 0.5\n",
    "                if pred == y:\n",
    "                    correct += 1\n",
    "            print(f\"Epoch {epoch} Val acc: {correct / len(y_val)}\")\n",
    "\n",
    "model.eval()\n",
    "with torch.no_grad():\n",
    "    correct = 0\n",
    "    for x_1, incidence_1, y in zip(x_1_test, incidence_1_test, y_test):\n",
    "        output = model(x_1.float(), incidence_1.float())\n",
    "        output = torch.nn.functional.sigmoid(output)\n",
    "        pred = output > 0.5\n",
    "        if pred == y:\n",
    "            correct += 1\n",
    "    print(f\"Test accuracy: {correct / len(y_test)}\")"
   ]
  },
  {
   "cell_type": "code",
   "execution_count": null,
   "id": "efa3bc9b",
   "metadata": {},
   "outputs": [],
   "source": []
  }
 ],
 "metadata": {
  "kernelspec": {
   "display_name": "Python 3 (ipykernel)",
   "language": "python",
   "name": "python3"
  },
  "language_info": {
   "codemirror_mode": {
    "name": "ipython",
    "version": 3
   },
   "file_extension": ".py",
   "mimetype": "text/x-python",
   "name": "python",
   "nbconvert_exporter": "python",
   "pygments_lexer": "ipython3",
   "version": "3.11.3"
  }
 },
 "nbformat": 4,
 "nbformat_minor": 5
}
