{
 "cells": [
  {
   "cell_type": "markdown",
   "metadata": {},
   "source": [
    "# Train a Cell Attention Network (CAN)\n",
    "\n",
    "We create and train a simplified version of the CAN originally proposed in [Giusti et. al : Cell Attention Network (2022)](https://arxiv.org/abs/2209.08179).\n",
    "\n",
    "TODO organize them in a better way.\n",
    "Equations:\n",
    "\n",
    "$\\textbf{h}_x^{t+1} =  \\phi^t \\Bigg ( \\textbf{h}_x^{t}, \\bigotimes_{\\mathcal{N}_k\\in\\mathcal N}\\bigoplus_{y \\in \\mathcal{N}_k(x)}  \\alpha_k(h_x^t,h_y^t)\\Bigg )$ \n",
    "\n",
    "         \n",
    "🟥 $\\quad m_{(y \\rightarrow x),k}^{(r)} = \\alpha_k(h_x^t,h_y^t) = a_k(h_x^{t}, h_y^{t}) \\cdot \\psi_k^t(h_x^{t})\\quad \\forall \\mathcal N_k$\n",
    "\n",
    "🟧 $\\quad m_{x,k}^{(r)} = \\bigoplus_{y \\in \\mathcal{N}_k(x)}  m^{(r)}  _{(y \\rightarrow x),k}$\n",
    "\n",
    "🟩 $\\quad m_{x}^{(r)} = \\bigotimes_{\\mathcal{N}_k\\in\\mathcal N}m_{x,k}^{(r)}$    \n",
    "\n",
    "🟦 $\\quad h_x^{t+1,(r)} = \\phi^{t}(h_x^t, m_{x}^{(r)})$\n",
    "\n",
    "Attentional Lift:\n",
    "\n",
    "🟥 $\\quad m_{(y,z) \\rightarrow x}^{(0 \\rightarrow 1)} = \\alpha(h_y,h_e) = \\Theta(h_z||h_y)$\n",
    "\n",
    "🟦 $\\quad h_x^{(1)} = \\phi(h_x, m_x^{(1)})$\n",
    "\n",
    "Attentional Pooling:\n",
    "\n",
    "🟥 $\\quad m_{x}^{(r)} = \\gamma^t(h_x^t) = \\tau^t (a^t\\cdot h_x^t)$\n",
    "\n",
    "🟦 $\\quad h_x^{t+1,(r)} = \\phi^t(h_x^t, m_{x}^{(r)}), \\forall x\\in \\mathcal C_r^{t+1}$\n",
    "\n",
    "\n",
    "\n",
    "\n",
    "### The Neural Network:\n",
    "\n",
    "The equations of one layer of this neural network are given by:\n",
    "\n",
    "1. A convolution from nodes to nodes using an adjacency message passing scheme (AMPS):\n",
    "\n",
    "🟥 $\\quad$\n",
    "\n",
    "🟧 $\\quad$ \n",
    "\n",
    "🟩 $\\quad$\n",
    "\n",
    "🟦 $\\quad$\n",
    "\n",
    "2. A convolution from edges to faces using a cohomology message passing scheme:\n",
    "\n",
    "🟥 $\\quad$\n",
    "\n",
    "🟧 $\\quad$ \n",
    "\n",
    "🟩 $\\quad$\n",
    "\n",
    "🟦 $\\quad$\n",
    "\n",
    "Where the notations are defined in [Papillon et al : Architectures of Topological Deep Learning: A Survey of Topological Neural Networks (2023)](https://arxiv.org/abs/2304.10031).\n",
    "\n",
    "### The Task:\n",
    "\n",
    "We train this model to perform entire complex classification on [`MUTAG` from the TUDataset](https://paperswithcode.com/dataset/mutag). This dataset contains:\n",
    "- 188 samples of chemical compounds represented as graphs,\n",
    "- with 7 discrete node features.\n",
    "\n",
    "The task is to predict the mutagenicity of each compound on Salmonella typhimurium."
   ]
  },
  {
   "cell_type": "markdown",
   "metadata": {},
   "source": [
    "# Set-up\n"
   ]
  },
  {
   "cell_type": "code",
   "execution_count": 287,
   "metadata": {
    "ExecuteTime": {
     "end_time": "2023-05-31T09:06:36.009880829Z",
     "start_time": "2023-05-31T09:06:34.285257706Z"
    }
   },
   "outputs": [],
   "source": [
    "import random\n",
    "\n",
    "import numpy as np\n",
    "import torch\n",
    "from sklearn.model_selection import train_test_split\n",
    "from toponetx import CellComplex\n",
    "from torch_geometric.datasets import TUDataset\n",
    "from torch_geometric.utils.convert import to_networkx\n",
    "import torch.nn.functional as F\n",
    "\n",
    "from topomodelx.nn.cell.can_layer import CANLayer\n",
    "from topomodelx.nn.cell.attentional_lift_layer import MultiHeadLiftLayer\n",
    "from topomodelx.nn.cell.attentional_pooling_layer import PoolLayer"
   ]
  },
  {
   "cell_type": "markdown",
   "metadata": {},
   "source": [
    "If GPU's are available, we will make use of them. Otherwise, this will run on CPU."
   ]
  },
  {
   "cell_type": "code",
   "execution_count": 288,
   "metadata": {
    "ExecuteTime": {
     "end_time": "2023-05-31T09:13:53.006542411Z",
     "start_time": "2023-05-31T09:13:52.963074076Z"
    }
   },
   "outputs": [
    {
     "name": "stdout",
     "output_type": "stream",
     "text": [
      "cuda\n"
     ]
    }
   ],
   "source": [
    "device = torch.device(\"cuda\" if torch.cuda.is_available() else \"cpu\")\n",
    "print(device)"
   ]
  },
  {
   "cell_type": "markdown",
   "metadata": {},
   "source": [
    "# Pre-processing\n",
    "\n",
    "## Import data ##\n",
    "\n",
    "We import a subset of MUTAG, a benchmark dataset for graph classification. \n",
    "\n",
    "We then lift each graph into our topological domain of choice, here: a cell complex.\n",
    "\n",
    "We also retrieve:\n",
    "- input signals `x_0` and `x_1` on the nodes (0-cells) and edges (1-cells) for each complex: these will be the model's inputs,\n",
    "- a binary classification label `y` associated to the cell complex."
   ]
  },
  {
   "cell_type": "code",
   "execution_count": 289,
   "metadata": {
    "ExecuteTime": {
     "end_time": "2023-05-31T09:13:55.279147916Z",
     "start_time": "2023-05-31T09:13:55.269057585Z"
    }
   },
   "outputs": [
    {
     "name": "stdout",
     "output_type": "stream",
     "text": [
      "Data(edge_index=[2, 36], x=[16, 7], edge_attr=[36, 4], y=[1])\n",
      "Features on nodes for the 0th cell complex: torch.Size([17, 7]).\n",
      "Features on edges for the 0th cell complex: torch.Size([38, 4]).\n",
      "Label of 0th cell complex: 1.\n"
     ]
    }
   ],
   "source": [
    "dataset = TUDataset(\n",
    "    root=\"/tmp/MUTAG\", name=\"MUTAG\", use_edge_attr=True, use_node_attr=True\n",
    ")\n",
    "dataset = dataset\n",
    "cc_list = []\n",
    "x_0_list = []\n",
    "x_1_list = []\n",
    "y_list = []\n",
    "for graph in dataset:\n",
    "    cell_complex = CellComplex(to_networkx(graph))\n",
    "    cc_list.append(cell_complex)\n",
    "    x_0_list.append(graph.x)\n",
    "    x_1_list.append(graph.edge_attr)\n",
    "    y_list.append(int(graph.y))\n",
    "else:\n",
    "    print(graph)\n",
    "\n",
    "i_cc = 0\n",
    "print(f\"Features on nodes for the {i_cc}th cell complex: {x_0_list[i_cc].shape}.\")\n",
    "print(f\"Features on edges for the {i_cc}th cell complex: {x_1_list[i_cc].shape}.\")\n",
    "print(f\"Label of {i_cc}th cell complex: {y_list[i_cc]}.\")"
   ]
  },
  {
   "cell_type": "markdown",
   "metadata": {},
   "source": [
    "## Define neighborhood structures. ##\n",
    "\n",
    "Implementing the CCXN architecture will require to perform message passing along neighborhood structures of the cell complexes.\n",
    "\n",
    "Thus, now we retrieve these neighborhood structures (i.e. their representative matrices) that we will use to send messages. \n",
    "\n",
    "For the CCXN, we need the adjacency matrix $A_{\\uparrow, 0}$ and the coboundary matrix $B_2^T$ of each cell complex."
   ]
  },
  {
   "cell_type": "code",
   "execution_count": 290,
   "metadata": {
    "ExecuteTime": {
     "end_time": "2023-05-31T09:13:55.832585216Z",
     "start_time": "2023-05-31T09:13:55.815448708Z"
    }
   },
   "outputs": [],
   "source": [
    "lower_neighborhood_list = []\n",
    "upper_neighborhood_list = []\n",
    "adjacency_0_list = []\n",
    "\n",
    "for cell_complex in cc_list:\n",
    "    adjacency_0 = cell_complex.adjacency_matrix(rank=0)\n",
    "    adjacency_0 = torch.from_numpy(adjacency_0.todense()).to_sparse()\n",
    "    adjacency_0_list.append(adjacency_0)\n",
    "\n",
    "    lower_neighborhood_t = cell_complex.down_laplacian_matrix(rank=1)\n",
    "    lower_neighborhood_t = torch.from_numpy(lower_neighborhood_t.todense()).to_sparse()\n",
    "    lower_neighborhood_list.append(lower_neighborhood_t)\n",
    "\n",
    "    try:\n",
    "        upper_neighborhood_t = cell_complex.up_laplacian_matrix(rank=1)\n",
    "        upper_neighborhood_t = torch.from_numpy(\n",
    "            upper_neighborhood_t.todense()\n",
    "        ).to_sparse()\n",
    "    except:\n",
    "        upper_neighborhood_t = np.zeros(\n",
    "            (lower_neighborhood_t.shape[0], lower_neighborhood_t.shape[0])\n",
    "        )\n",
    "        upper_neighborhood_t = torch.from_numpy(upper_neighborhood_t).to_sparse()\n",
    "\n",
    "    upper_neighborhood_list.append(upper_neighborhood_t)"
   ]
  },
  {
   "cell_type": "markdown",
   "metadata": {},
   "source": [
    "# Create the Neural Network\n",
    "\n",
    "Using the CCXNLayer class, we create a neural network with stacked layers."
   ]
  },
  {
   "cell_type": "code",
   "execution_count": 291,
   "metadata": {
    "ExecuteTime": {
     "end_time": "2023-05-31T09:13:56.672913561Z",
     "start_time": "2023-05-31T09:13:56.667986426Z"
    }
   },
   "outputs": [
    {
     "name": "stdout",
     "output_type": "stream",
     "text": [
      "The dimension of input features on nodes, edges and faces are: 7, 4 and 5.\n"
     ]
    }
   ],
   "source": [
    "in_channels_0 = x_0_list[0].shape[-1]\n",
    "in_channels_1 = x_1_list[0].shape[-1]\n",
    "in_channels_2 = 5\n",
    "print(\n",
    "    f\"The dimension of input features on nodes, edges and faces are: {in_channels_0}, {in_channels_1} and {in_channels_2}.\"\n",
    ")"
   ]
  },
  {
   "cell_type": "code",
   "execution_count": 292,
   "metadata": {
    "ExecuteTime": {
     "end_time": "2023-05-31T09:19:39.455212236Z",
     "start_time": "2023-05-31T09:19:39.452286461Z"
    }
   },
   "outputs": [],
   "source": [
    "class CAN(torch.nn.Module):\n",
    "    def __init__(\n",
    "        self,\n",
    "        in_channels_0,\n",
    "        in_channels_1,\n",
    "        out_channels,\n",
    "        num_classes,\n",
    "        dropout=0.5,\n",
    "        heads=3,\n",
    "        concat=True,\n",
    "        skip_connection=True,\n",
    "        att_activation=torch.nn.LeakyReLU(0.2),\n",
    "        n_layers=2,\n",
    "        att_lift=True,\n",
    "    ):\n",
    "        super().__init__()\n",
    "\n",
    "        if att_lift:\n",
    "            self.lift_layer = MultiHeadLiftLayer(\n",
    "                in_channels_0=in_channels_0,\n",
    "                heads=in_channels_0,\n",
    "                signal_lift_dropout=0.5,\n",
    "            )\n",
    "            in_channels_1 = in_channels_1 + in_channels_0\n",
    "\n",
    "        layers = []\n",
    "\n",
    "        layers.append(\n",
    "            CANLayer(\n",
    "                in_channels=in_channels_1,\n",
    "                out_channels=out_channels,\n",
    "                heads=heads,\n",
    "                concat=concat,\n",
    "                skip_connection=skip_connection,\n",
    "                att_activation=att_activation,\n",
    "                aggr_func=\"sum\",\n",
    "                update_func=\"relu\",\n",
    "            )\n",
    "        )\n",
    "\n",
    "        for _ in range(n_layers - 1):\n",
    "            layers.append(\n",
    "                CANLayer(\n",
    "                    in_channels=out_channels * heads,\n",
    "                    out_channels=out_channels,\n",
    "                    dropout=dropout,\n",
    "                    heads=heads,\n",
    "                    concat=concat,\n",
    "                    skip_connection=skip_connection,\n",
    "                    att_activation=att_activation,\n",
    "                    aggr_func=\"sum\",\n",
    "                    update_func=\"relu\",\n",
    "                )\n",
    "            )\n",
    "\n",
    "            layers.append(\n",
    "                PoolLayer(\n",
    "                    k_pool=0.5,\n",
    "                    in_channels_0=out_channels * heads,\n",
    "                    signal_pool_activation=torch.nn.Sigmoid(),\n",
    "                    readout=True,\n",
    "                )\n",
    "            )\n",
    "\n",
    "        self.layers = torch.nn.ModuleList(layers)\n",
    "        self.lin_0 = torch.nn.Linear(heads * out_channels, 128)\n",
    "        self.lin_1 = torch.nn.Linear(128, num_classes)\n",
    "\n",
    "    def forward(\n",
    "        self, x_0, x_1, neighborhood_0_to_0, lower_neighborhood, upper_neighborhood\n",
    "    ):\n",
    "        if hasattr(self, \"lift_layer\"):\n",
    "            x_1 = self.lift_layer(x_0, neighborhood_0_to_0, x_1)\n",
    "\n",
    "        for layer in self.layers:\n",
    "            if isinstance(layer, PoolLayer):\n",
    "                x_1, lower_neighborhood, upper_neighborhood = layer(\n",
    "                    x_1, lower_neighborhood, upper_neighborhood\n",
    "                )\n",
    "            else:\n",
    "                x_1 = layer(x_1, lower_neighborhood, upper_neighborhood)\n",
    "                x_1 = F.dropout(x_1, p=0.5, training=self.training)\n",
    "\n",
    "        # max pooling over all nodes in each graph\n",
    "        x = x_1.max(dim=0)[0]\n",
    "\n",
    "        # Feed-Foward Neural Network to predict the graph label\n",
    "        out = self.lin_1(torch.nn.functional.relu(self.lin_0(x)))\n",
    "\n",
    "        return out"
   ]
  },
  {
   "cell_type": "markdown",
   "metadata": {},
   "source": [
    "# Train the Neural Network\n",
    "\n",
    "We specify the model, initialize loss, and specify an optimizer. We first try it without any attention mechanism."
   ]
  },
  {
   "cell_type": "code",
   "execution_count": 293,
   "metadata": {
    "ExecuteTime": {
     "end_time": "2023-05-31T09:19:40.411845803Z",
     "start_time": "2023-05-31T09:19:40.408861921Z"
    }
   },
   "outputs": [
    {
     "data": {
      "text/plain": [
       "CAN(\n",
       "  (lift_layer): MultiHeadLiftLayer(\n",
       "    (lifts): LiftLayer()\n",
       "  )\n",
       "  (layers): ModuleList(\n",
       "    (0): CANLayer(\n",
       "      (lower_att): MultiHeadCellAttention(\n",
       "        (att_activation): LeakyReLU(negative_slope=0.2)\n",
       "        (lin): Linear(in_features=11, out_features=64, bias=False)\n",
       "      )\n",
       "      (upper_att): MultiHeadCellAttention(\n",
       "        (att_activation): LeakyReLU(negative_slope=0.2)\n",
       "        (lin): Linear(in_features=11, out_features=64, bias=False)\n",
       "      )\n",
       "      (lin): Linear(in_features=11, out_features=64, bias=False)\n",
       "      (aggregation): Aggregation()\n",
       "    )\n",
       "    (1): CANLayer(\n",
       "      (lower_att): MultiHeadCellAttention(\n",
       "        (att_activation): LeakyReLU(negative_slope=0.2)\n",
       "        (lin): Linear(in_features=64, out_features=64, bias=False)\n",
       "      )\n",
       "      (upper_att): MultiHeadCellAttention(\n",
       "        (att_activation): LeakyReLU(negative_slope=0.2)\n",
       "        (lin): Linear(in_features=64, out_features=64, bias=False)\n",
       "      )\n",
       "      (lin): Linear(in_features=64, out_features=64, bias=False)\n",
       "      (aggregation): Aggregation()\n",
       "    )\n",
       "    (2): PoolLayer(\n",
       "      (signal_pool_activation): Sigmoid()\n",
       "    )\n",
       "  )\n",
       "  (lin_0): Linear(in_features=64, out_features=128, bias=True)\n",
       "  (lin_1): Linear(in_features=128, out_features=2, bias=True)\n",
       ")"
      ]
     },
     "execution_count": 293,
     "metadata": {},
     "output_type": "execute_result"
    }
   ],
   "source": [
    "model = CAN(\n",
    "    in_channels_0,\n",
    "    in_channels_1,\n",
    "    32,\n",
    "    dropout=0.5,\n",
    "    heads=2,\n",
    "    num_classes=2,\n",
    "    n_layers=2,\n",
    "    att_lift=True,\n",
    ")\n",
    "model = model.to(device)\n",
    "crit = torch.nn.CrossEntropyLoss()\n",
    "opt = torch.optim.Adam(model.parameters(), lr=0.001)\n",
    "model"
   ]
  },
  {
   "cell_type": "markdown",
   "metadata": {},
   "source": [
    "We split the dataset into train and test sets."
   ]
  },
  {
   "cell_type": "code",
   "execution_count": 294,
   "metadata": {
    "ExecuteTime": {
     "end_time": "2023-05-31T09:19:41.150933630Z",
     "start_time": "2023-05-31T09:19:41.146986990Z"
    }
   },
   "outputs": [],
   "source": [
    "test_size = 0.3\n",
    "x_1_train, x_1_test = train_test_split(x_1_list, test_size=test_size, shuffle=False)\n",
    "x_0_train, x_0_test = train_test_split(x_0_list, test_size=test_size, shuffle=False)\n",
    "lower_neighborhood_train, lower_neighborhood_test = train_test_split(\n",
    "    lower_neighborhood_list, test_size=test_size, shuffle=False\n",
    ")\n",
    "upper_neighborhood_train, upper_neighborhood_test = train_test_split(\n",
    "    upper_neighborhood_list, test_size=test_size, shuffle=False\n",
    ")\n",
    "adjacency_0_train, adjacency_0_test = train_test_split(\n",
    "    adjacency_0_list, test_size=test_size, shuffle=False\n",
    ")\n",
    "y_train, y_test = train_test_split(y_list, test_size=test_size, shuffle=False)"
   ]
  },
  {
   "cell_type": "code",
   "execution_count": 295,
   "metadata": {
    "ExecuteTime": {
     "end_time": "2023-05-31T09:19:42.918836083Z",
     "start_time": "2023-05-31T09:19:42.114801039Z"
    }
   },
   "outputs": [
    {
     "name": "stdout",
     "output_type": "stream",
     "text": [
      "Epoch: 1 loss: 0.6238 Train_acc: 0.6870\n",
      "Test_acc: 0.5965\n",
      "Epoch: 2 loss: 0.6272 Train_acc: 0.6947\n",
      "Test_acc: 0.5965\n",
      "Epoch: 3 loss: 0.5953 Train_acc: 0.6947\n",
      "Test_acc: 0.5965\n",
      "Epoch: 4 loss: 0.5952 Train_acc: 0.6947\n",
      "Test_acc: 0.5965\n",
      "Epoch: 5 loss: 0.5804 Train_acc: 0.7023\n",
      "Test_acc: 0.6316\n",
      "Epoch: 6 loss: 0.5702 Train_acc: 0.7252\n",
      "Test_acc: 0.6316\n",
      "Epoch: 7 loss: 0.5534 Train_acc: 0.7176\n",
      "Test_acc: 0.7193\n",
      "Epoch: 8 loss: 0.5415 Train_acc: 0.7481\n",
      "Test_acc: 0.7368\n",
      "Epoch: 9 loss: 0.5556 Train_acc: 0.7328\n",
      "Test_acc: 0.7544\n",
      "Epoch: 10 loss: 0.5322 Train_acc: 0.7405\n",
      "Test_acc: 0.7368\n"
     ]
    }
   ],
   "source": [
    "test_interval = 1\n",
    "num_epochs = 10\n",
    "for epoch_i in range(1, num_epochs + 1):\n",
    "    epoch_loss = []\n",
    "    num_samples = 0\n",
    "    correct = 0\n",
    "    model.train()\n",
    "    for x_0, x_1, adjacency, lower_neighborhood, upper_neighborhood, y in zip(\n",
    "        x_0_train,\n",
    "        x_1_train,\n",
    "        adjacency_0_train,\n",
    "        lower_neighborhood_train,\n",
    "        upper_neighborhood_train,\n",
    "        y_train,\n",
    "    ):\n",
    "        x_0 = x_0.float().to(device)\n",
    "        x_1, y = x_1.float().to(device), torch.tensor(y, dtype=torch.long).to(device)\n",
    "        adjacency = adjacency.float().to(device)\n",
    "        lower_neighborhood, upper_neighborhood = lower_neighborhood.float().to(\n",
    "            device\n",
    "        ), upper_neighborhood.float().to(device)\n",
    "        opt.zero_grad()\n",
    "        y_hat = model(x_0, x_1, adjacency, lower_neighborhood, upper_neighborhood)\n",
    "        loss = crit(y_hat, y)\n",
    "        correct += (y_hat.argmax() == y).sum().item()\n",
    "        num_samples += 1\n",
    "        loss.backward()\n",
    "        opt.step()\n",
    "        epoch_loss.append(loss.item())\n",
    "    train_acc = correct / num_samples\n",
    "    print(\n",
    "        f\"Epoch: {epoch_i} loss: {np.mean(epoch_loss):.4f} Train_acc: {train_acc:.4f}\",\n",
    "        flush=True,\n",
    "    )\n",
    "    if epoch_i % test_interval == 0:\n",
    "        with torch.no_grad():\n",
    "            num_samples = 0\n",
    "            correct = 0\n",
    "            for x_0, x_1, adjacency, lower_neighborhood, upper_neighborhood, y in zip(\n",
    "                x_0_test,\n",
    "                x_1_test,\n",
    "                adjacency_0_test,\n",
    "                lower_neighborhood_test,\n",
    "                upper_neighborhood_test,\n",
    "                y_test,\n",
    "            ):\n",
    "                x_0 = x_0.float().to(device)\n",
    "                x_1, y = x_1.float().to(device), torch.tensor(y, dtype=torch.long).to(\n",
    "                    device\n",
    "                )\n",
    "                adjacency = adjacency.float().to(device)\n",
    "                lower_neighborhood, upper_neighborhood = lower_neighborhood.float().to(\n",
    "                    device\n",
    "                ), upper_neighborhood.float().to(device)\n",
    "                y_hat = model(\n",
    "                    x_0, x_1, adjacency, lower_neighborhood, upper_neighborhood\n",
    "                )\n",
    "                correct += (y_hat.argmax() == y).sum().item()\n",
    "                num_samples += 1\n",
    "            test_acc = correct / num_samples\n",
    "            print(f\"Test_acc: {test_acc:.4f}\", flush=True)"
   ]
  }
 ],
 "metadata": {
  "kernelspec": {
   "display_name": "Python 3 (ipykernel)",
   "language": "python",
   "name": "python3"
  },
  "language_info": {
   "codemirror_mode": {
    "name": "ipython",
    "version": 3
   },
   "file_extension": ".py",
   "mimetype": "text/x-python",
   "name": "python",
   "nbconvert_exporter": "python",
   "pygments_lexer": "ipython3",
   "version": "3.11.3"
  },
  "vscode": {
   "interpreter": {
    "hash": "7b696409e3d9b84bb97012e0a2d03075417bfa260eb8ad887be094cb925d5d5d"
   }
  }
 },
 "nbformat": 4,
 "nbformat_minor": 4
}
